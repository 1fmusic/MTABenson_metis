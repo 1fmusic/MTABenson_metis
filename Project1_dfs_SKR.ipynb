{
 "cells": [
  {
   "cell_type": "code",
   "execution_count": 21,
   "metadata": {
    "collapsed": true
   },
   "outputs": [],
   "source": [
    "import pandas as pd\n",
    "import numpy as np\n",
    "import matplotlib.pyplot as plt\n",
    "\n",
    "from IPython.display import Image\n",
    "\n",
    "# enables inline plots, without it plots don't show up in the notebook\n",
    "%matplotlib inline"
   ]
  },
  {
   "cell_type": "code",
   "execution_count": 53,
   "metadata": {
    "collapsed": true
   },
   "outputs": [],
   "source": [
    "df_train_stops = pd.read_csv('http://web.mta.info/developers/data/nyct/subway/Stations.csv')"
   ]
  },
  {
   "cell_type": "code",
   "execution_count": 23,
   "metadata": {},
   "outputs": [
    {
     "data": {
      "text/plain": [
       "376"
      ]
     },
     "execution_count": 23,
     "metadata": {},
     "output_type": "execute_result"
    }
   ],
   "source": [
    "len(df_train_stops['Stop Name'].unique())"
   ]
  },
  {
   "cell_type": "markdown",
   "metadata": {},
   "source": [
    "### Making a df from turnstile data"
   ]
  },
  {
   "cell_type": "code",
   "execution_count": 24,
   "metadata": {
    "collapsed": true
   },
   "outputs": [],
   "source": [
    "dates = ['170624', '170617', '170610', '170603', '170527', '170520', '170513', '170506', '160625', '160618', '160611', '160604', '160528', '160521', '160514', '160507']\n",
    "\n",
    "chronological_dates = list(reversed(dates))"
   ]
  },
  {
   "cell_type": "code",
   "execution_count": 25,
   "metadata": {},
   "outputs": [
    {
     "name": "stdout",
     "output_type": "stream",
     "text": [
      "http://web.mta.info/developers/data/nyct/turnstile/turnstile_160507.txt\n",
      "http://web.mta.info/developers/data/nyct/turnstile/turnstile_160514.txt\n",
      "http://web.mta.info/developers/data/nyct/turnstile/turnstile_160521.txt\n",
      "http://web.mta.info/developers/data/nyct/turnstile/turnstile_160528.txt\n",
      "http://web.mta.info/developers/data/nyct/turnstile/turnstile_160604.txt\n",
      "http://web.mta.info/developers/data/nyct/turnstile/turnstile_160611.txt\n",
      "http://web.mta.info/developers/data/nyct/turnstile/turnstile_160618.txt\n",
      "http://web.mta.info/developers/data/nyct/turnstile/turnstile_160625.txt\n",
      "http://web.mta.info/developers/data/nyct/turnstile/turnstile_170506.txt\n",
      "http://web.mta.info/developers/data/nyct/turnstile/turnstile_170513.txt\n",
      "http://web.mta.info/developers/data/nyct/turnstile/turnstile_170520.txt\n",
      "http://web.mta.info/developers/data/nyct/turnstile/turnstile_170527.txt\n",
      "http://web.mta.info/developers/data/nyct/turnstile/turnstile_170603.txt\n",
      "http://web.mta.info/developers/data/nyct/turnstile/turnstile_170610.txt\n",
      "http://web.mta.info/developers/data/nyct/turnstile/turnstile_170617.txt\n",
      "http://web.mta.info/developers/data/nyct/turnstile/turnstile_170624.txt\n"
     ]
    }
   ],
   "source": [
    "turnstile_df = pd.DataFrame()\n",
    "\n",
    "for date in chronological_dates:\n",
    "    base = 'http://web.mta.info/developers/data/nyct/turnstile/turnstile_'\n",
    "    url = base + date + '.txt'\n",
    "    print(url)\n",
    "    df = pd.read_csv(url)\n",
    "    turnstile_df = pd.concat([turnstile_df, df], ignore_index=True)"
   ]
  },
  {
   "cell_type": "code",
   "execution_count": null,
   "metadata": {},
   "outputs": [],
   "source": [
    "for item in turnstile_df['STATION'].str.lower().unique():\n",
    "    if item not in df_train_stops['Stop Name'].str.lower().unique():\n",
    "       # print(item)"
   ]
  },
  {
   "cell_type": "code",
   "execution_count": 167,
   "metadata": {
    "collapsed": true
   },
   "outputs": [],
   "source": [
    "df_SS = pd.read_csv('http://web.mta.info/developers/data/nyct/turnstile/turnstile_170916.txt')\n",
    "                 #http://web.mta.info/developers/data/nyct/subway/StationEntrances.csv')\n"
   ]
  },
  {
   "cell_type": "code",
   "execution_count": 168,
   "metadata": {},
   "outputs": [],
   "source": [
    "turnstile_df.rename(columns = {turnstile_df.columns[-1]:'EXITS'}, inplace=True)\n",
    "df_SS.rename(columns = {df_SS.columns[-1]:'EXITS'}, inplace=True) "
   ]
  },
  {
   "cell_type": "markdown",
   "metadata": {},
   "source": [
    "### Get and Compute the total number of people in and out of each station, each day."
   ]
  },
  {
   "cell_type": "code",
   "execution_count": 333,
   "metadata": {},
   "outputs": [],
   "source": [
    "def ppl_per_int_turnst(datafrm, dt_start='06/09/2016', dt_end = '06/11/2016'): \n",
    "\n",
    "    \"\"\"function to subtract the entries and exits collected at the starting hour for the day (i.e., 00:00:00 hrs) from the entries \n",
    "    and exits collected during the next collection time (i.e. 04:00:00 hrs) for each turnstile in MTA.\n",
    "    ----------\n",
    "    dt_start = list start day as string in format mm/dd/yyyy  \n",
    "    dt_end = end day as string in format mm/dd/yyyy\n",
    "    datafrm= dataframe from MTA turnstile data\"\"\"\n",
    "    #dt = dt_start # needs to loop through a range of dates\n",
    "    #if # find the hours for each row (TIME) and put into a list, then get max and min  & (datafrm.TIME == '00:00:00'), :])\n",
    "    from datetime import datetime\n",
    "    from datetime import timedelta\n",
    "    \n",
    "    def get_dates(start,stop):\n",
    "        \"\"\" make a list of dates in format mm/dd/yyyy\n",
    "        ------------------\n",
    "        start = list start day as string in format mm/dd/yyyy\n",
    "        end day as string in format mm/dd/yyyy\"\"\"\n",
    "        days = []\n",
    "        weekdays = []\n",
    "        date_format = '%m/%d/%Y'\n",
    "        date_ob_st = datetime.strptime(start,date_format)\n",
    "        date_ob_end = datetime.strptime(stop,date_format)\n",
    "        num_of_days_ob = str(date_ob_end - date_ob_st) \n",
    "        num_of_days = int(num_of_days_ob[0]) #total number of days to include\n",
    "        for day in  range(1,num_of_days+1):\n",
    "            one_day = date_ob_st + timedelta (days=day) \n",
    "            days.append(datetime.strftime(one_day,date_format))\n",
    "            weekdays.append(one_day.weekday())\n",
    "        return days\n",
    "    \n",
    "    dates = get_dates(dt_start,dt_end)\n",
    "    \n",
    "    for day in dates: \n",
    "        day1 = datafrm.loc[(datafrm.DATE == day ),['DATE','STATION','LINENAME','SCP','TIME','ENTRIES','EXITS']]\n",
    "        lins = (day1['LINENAME'].unique())\n",
    "        stns = (day1['STATION'].unique())\n",
    "        turnstile_int = pd.DataFrame(index=range(len(datafrm)),columns=['DATE','STATION','LINENAME','ID','HOUR','ENTRIES','EXITS','WEEKDAY'])\n",
    "        rowDF = 0 \n",
    "        for ln in lins :\n",
    "            lines = pd.DataFrame(columns=day1.columns)\n",
    "            lines = day1.loc[(day1.LINENAME==ln)]\n",
    "            for stn in stns:\n",
    "                st = pd.DataFrame(columns=lines.columns)\n",
    "                st = lines.loc[(day1.STATION==stn)]\n",
    "                turnstiles = st['SCP'].unique()\n",
    "                for turnstile in turnstiles:\n",
    "                    turnstile_data = pd.DataFrame(columns=st.columns)\n",
    "                    turnstile_data = st.loc[(st.SCP==turnstile)] \n",
    "                    for row in range(len(turnstile_data)-1) : # subtract counts from the previous count (Entries/Exits) and put into dataframe called turnstile_int\n",
    "                        # if datetime.strptime(turnstile_data.TIME.iloc[row], '%H:%M:%S') < datetime.strptime(turnstile_data.TIME.iloc[row+1], '%H:%M:%S'):               \n",
    "                        turnstile_int.DATE.iloc[rowDF] = turnstile_data.DATE.iloc[row]\n",
    "                        turnstile_int.STATION.iloc[rowDF] = turnstile_data.STATION.iloc[row]\n",
    "                        turnstile_int.ID.iloc[rowDF] = turnstile_data.SCP.iloc[row]\n",
    "                        turnstile_int.LINENAME.iloc[rowDF] = turnstile_data.LINENAME.iloc[row]\n",
    "                        turnstile_int.HOUR.iloc[rowDF] = turnstile_data.TIME.iloc[row+1]\n",
    "                        wd = datetime.strptime(day,\"%m/%d/%Y\")\n",
    "                        turnstile_int.WEEKDAY.iloc[rowDF] = wd.weekday()\n",
    "\n",
    "                        if int(turnstile_data.ENTRIES.iloc[row+1]) == 0 : # if turnstyle resets, don't include a number for that interval\n",
    "                            turnstile_int.ENTRIES.iloc[rowDF] = np.nan\n",
    "                        else: \n",
    "                            turnstile_int.ENTRIES.iloc[rowDF] = abs(int(turnstile_data.ENTRIES.iloc[row+1]) - int(turnstile_data.ENTRIES.iloc[row]))  #subtract numb from start of day from end of day for each turnstyle\n",
    "\n",
    "                        if int(turnstile_data.EXITS.iloc[row+1]) == 0 :# if turnstyle resets, don't include a number for that interval\n",
    "                            turnstile_int.EXITS.iloc[rowDF] = np.nan      \n",
    "                        else:                   \n",
    "                            turnstile_int.EXITS.iloc[rowDF] = abs(int(turnstile_data.EXITS.iloc[row+1]) - int(turnstile_data.EXITS.iloc[row]))  #subtract numb from start of day from end of day for each turnstyle\n",
    "\n",
    "                        rowDF = rowDF + 1 \n",
    "    turnstile_int.dropna(subset=['DATE'], inplace = True)                    \n",
    "    return turnstile_int"
   ]
  },
  {
   "cell_type": "code",
   "execution_count": null,
   "metadata": {},
   "outputs": [],
   "source": [
    "shinyhappypeople = ppl_per_int_turnst(df_SS, '09/14/2017','9/15/2017')\n",
    "shinyhappypeople\n"
   ]
  },
  {
   "cell_type": "code",
   "execution_count": 280,
   "metadata": {
    "collapsed": true
   },
   "outputs": [],
   "source": [
    "import pickle\n",
    "# to save a pickle file\n",
    "path = '/Users/ada/Dropbox/metis/MTABenson_metis/pklfiles/'\n",
    "with open(path + 'shinyhappypeople.pkl', 'wb') as picklefile:\n",
    "    pickle.dump(shinyhappypeople, picklefile)"
   ]
  },
  {
   "cell_type": "code",
   "execution_count": null,
   "metadata": {},
   "outputs": [],
   "source": [
    "# to open a pickle file\n",
    "with open(path + \"subset_df.pkl\", 'rb') as picklefile: \n",
    "    test = pickle.load(picklefile)"
   ]
  }
 ],
 "metadata": {
  "kernelspec": {
   "display_name": "Python [default]",
   "language": "python",
   "name": "python3"
  },
  "language_info": {
   "codemirror_mode": {
    "name": "ipython",
    "version": 3
   },
   "file_extension": ".py",
   "mimetype": "text/x-python",
   "name": "python",
   "nbconvert_exporter": "python",
   "pygments_lexer": "ipython3",
   "version": "3.6.2"
  }
 },
 "nbformat": 4,
 "nbformat_minor": 2
}
