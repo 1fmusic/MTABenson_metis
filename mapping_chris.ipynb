{
 "cells": [
  {
   "cell_type": "markdown",
   "metadata": {},
   "source": [
    "### Imports"
   ]
  },
  {
   "cell_type": "code",
   "execution_count": null,
   "metadata": {
    "collapsed": true
   },
   "outputs": [],
   "source": [
    "import fiona\n",
    "import shapely.geometry\n",
    "import pandas as pd\n",
    "import numpy as np\n",
    "import matplotlib.pyplot as plt\n",
    "import matplotlib.cm\n",
    "from mpl_toolkits.basemap import Basemap\n",
    "from matplotlib.patches import Polygon\n",
    "from matplotlib.collections import PatchCollection\n",
    "from matplotlib.colors import Normalize"
   ]
  },
  {
   "cell_type": "markdown",
   "metadata": {},
   "source": [
    "### Create basemap for plotting in matplotlib"
   ]
  },
  {
   "cell_type": "code",
   "execution_count": null,
   "metadata": {
    "collapsed": true
   },
   "outputs": [],
   "source": [
    "ny_map = Basemap(projection='merc', lat_0=40.6, lon_0=-73.9, llcrnrlat=40.5,urcrnrlat=40.9, llcrnrlon=-74.3,urcrnrlon=-73.65,resolution='h', area_thresh=1)"
   ]
  },
  {
   "cell_type": "markdown",
   "metadata": {},
   "source": [
    "### Create income table from census data and merge with the GEO_ID to match polygons with income"
   ]
  },
  {
   "cell_type": "code",
   "execution_count": null,
   "metadata": {
    "collapsed": true
   },
   "outputs": [],
   "source": [
    "income_table = pd.read_csv('/Users/murdock/Documents/metis/MTABenson_metis/ACS_15_5YR_B19013_with_ann.csv')"
   ]
  },
  {
   "cell_type": "code",
   "execution_count": null,
   "metadata": {},
   "outputs": [],
   "source": [
    "income_table = income_table.drop(income_table.index[0])\n",
    "income_table.columns=['GEO_ID', 'GEO_ID2', 'GEO_DISPLAY_LABEL', 'MEDIAN_INCOME', 'MARGIN_OF_ERROR']\n",
    "income_table.head()"
   ]
  },
  {
   "cell_type": "code",
   "execution_count": null,
   "metadata": {
    "collapsed": true
   },
   "outputs": [],
   "source": [
    "filename = '/Users/murdock/Documents/metis/MTABenson_metis/thematic_map_shape/nyshapefile.shp'\n",
    "blocks = []\n",
    "with fiona.open(filename) as data:\n",
    "    for block_data in data:\n",
    "        geometry = shapely.geometry.shape(block_data['geometry'])\n",
    "        block = block_data['properties']['GEO_ID']\n",
    "        blocks.append([block, block_data['geometry']['coordinates'][0]])"
   ]
  },
  {
   "cell_type": "code",
   "execution_count": null,
   "metadata": {},
   "outputs": [],
   "source": [
    "df = pd.DataFrame(blocks, columns=['GEO_ID', 'COORDINATES'])\n",
    "df.head()"
   ]
  },
  {
   "cell_type": "code",
   "execution_count": null,
   "metadata": {},
   "outputs": [],
   "source": [
    "map_df = pd.merge(df, income_table, on='GEO_ID', how='left')\n",
    "map_df.head()"
   ]
  },
  {
   "cell_type": "code",
   "execution_count": null,
   "metadata": {
    "collapsed": true
   },
   "outputs": [],
   "source": [
    "map_df['MEDIAN_INCOME'] = map_df['MEDIAN_INCOME'].astype(int)"
   ]
  },
  {
   "cell_type": "markdown",
   "metadata": {},
   "source": [
    "### Create figure and color code by normalizing the income for each shape"
   ]
  },
  {
   "cell_type": "code",
   "execution_count": null,
   "metadata": {
    "collapsed": true
   },
   "outputs": [],
   "source": [
    "fig = plt.figure(figsize=(16, 16))\n",
    "ax = fig.add_subplot(111)\n",
    "ny_map.drawmapboundary(fill_color='aqua')\n",
    "ny_map.fillcontinents(color='#f2f2f2',lake_color='aqua')\n",
    "ny_map.drawcoastlines()\n",
    "\n",
    "ny_map.readshapefile('/Users/murdock/Documents/metis/MTABenson_metis/thematic_map_shape/nyshapefile', 'nyshapefile')\n",
    "\n",
    "cmap = plt.get_cmap('Oranges')\n",
    "\n",
    "patches   = []\n",
    "\n",
    "for info, shape in zip(ny_map.nyshapefile_info, ny_map.nyshapefile):\n",
    "    patches.append(Polygon(np.array(shape), True))\n",
    "\n",
    "norm = Normalize()\n",
    "pc = PatchCollection(patches, zorder=2)\n",
    " \n",
    "#pc.set_facecolor(cmap(norm(mapping_df['MEDIAN_INCOME'].fillna(0).values)))\n",
    "pc.set_facecolor(cmap(norm(map_df['MEDIAN_INCOME'].fillna(0).values)))\n",
    "ax.add_collection(pc)\n",
    "\n",
    "mapper = matplotlib.cm.ScalarMappable(norm=norm, cmap=cmap)\n",
    "\n",
    "mapper.set_array(map_df['MEDIAN_INCOME'])\n",
    "plt.colorbar(mapper, shrink=0.4)\n",
    "\n",
    "plt.show()\n",
    "#plt.savefig('NY_incomemap.png', bbox_inches='tight')"
   ]
  },
  {
   "cell_type": "markdown",
   "metadata": {},
   "source": [
    "### Load table of selected train stations and plot these points on the income map"
   ]
  },
  {
   "cell_type": "code",
   "execution_count": null,
   "metadata": {
    "collapsed": true
   },
   "outputs": [],
   "source": [
    "station_path = '/Users/murdock/Documents/Metis/MTABenson_metis/pklfiles/'\n",
    "final_stations_df = pd.read_pickle(station_path + 'final_stations.pkl')"
   ]
  },
  {
   "cell_type": "code",
   "execution_count": null,
   "metadata": {},
   "outputs": [],
   "source": [
    "final_stations_df.head()"
   ]
  },
  {
   "cell_type": "markdown",
   "metadata": {},
   "source": [
    "### Plotting map with top stations overlaid as points on the map"
   ]
  },
  {
   "cell_type": "code",
   "execution_count": null,
   "metadata": {
    "collapsed": true
   },
   "outputs": [],
   "source": [
    "ny_map_with_stations = Basemap(projection='merc', lat_0=40.6, lon_0=-73.9, llcrnrlat=40.67,urcrnrlat=40.83, llcrnrlon=-74.08,urcrnrlon=-73.9,resolution='h', area_thresh=1)"
   ]
  },
  {
   "cell_type": "code",
   "execution_count": null,
   "metadata": {
    "scrolled": false
   },
   "outputs": [],
   "source": [
    "fig = plt.figure(figsize=(16, 16))\n",
    "ax = fig.add_subplot(111)\n",
    "ny_map_with_stations.drawmapboundary(fill_color='aqua')\n",
    "ny_map_with_stations.fillcontinents(color='#f2f2f2',lake_color='aqua')\n",
    "ny_map_with_stations.drawcoastlines()\n",
    "\n",
    "ny_map_with_stations.readshapefile('/Users/murdock/Documents/metis/MTABenson_metis/thematic_map_shape/nyshapefile', 'nyshapefile')\n",
    "\n",
    "cmap = plt.get_cmap('Oranges')\n",
    "\n",
    "patches   = []\n",
    "\n",
    "for info, shape in zip(ny_map_with_stations.nyshapefile_info, ny_map_with_stations.nyshapefile):\n",
    "    patches.append(Polygon(np.array(shape), True))\n",
    "\n",
    "norm = Normalize()\n",
    "pc = PatchCollection(patches, zorder=2)\n",
    "\n",
    "pc.set_facecolor(cmap(norm(map_df['MEDIAN_INCOME'].fillna(0).values)))\n",
    "ax.add_collection(pc)\n",
    "\n",
    "lons = final_stations_df['LONGITUDE'].values\n",
    "lats = final_stations_df['LATITUDE'].values\n",
    "x, y = ny_map_with_stations(lons, lats)\n",
    "ny_map_with_stations.plot(x, y, 'bo', markersize=20)\n",
    "\n",
    "labels = [name for name in final_stations_df['STATION'].values]\n",
    "for label, xpt, ypt in zip(labels, x, y):\n",
    "    plt.text(xpt, ypt, label)\n",
    "\n",
    "mapper = matplotlib.cm.ScalarMappable(norm=norm, cmap=cmap)\n",
    "\n",
    "mapper.set_array(map_df['MEDIAN_INCOME'])\n",
    "plt.colorbar(mapper, shrink=0.4)\n",
    "\n",
    "plt.show()\n",
    "#plt.savefig('NY_incomemap_plus_stations.png', bbox_inches='tight')"
   ]
  },
  {
   "cell_type": "code",
   "execution_count": null,
   "metadata": {
    "collapsed": true
   },
   "outputs": [],
   "source": []
  }
 ],
 "metadata": {
  "kernelspec": {
   "display_name": "Python [conda root]",
   "language": "python",
   "name": "conda-root-py"
  },
  "language_info": {
   "codemirror_mode": {
    "name": "ipython",
    "version": 3
   },
   "file_extension": ".py",
   "mimetype": "text/x-python",
   "name": "python",
   "nbconvert_exporter": "python",
   "pygments_lexer": "ipython3",
   "version": "3.6.1"
  }
 },
 "nbformat": 4,
 "nbformat_minor": 2
}
