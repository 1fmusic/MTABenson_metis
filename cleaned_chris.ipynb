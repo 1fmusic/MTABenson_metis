{
 "cells": [
  {
   "cell_type": "markdown",
   "metadata": {},
   "source": [
    "### Imports"
   ]
  },
  {
   "cell_type": "code",
   "execution_count": 1,
   "metadata": {
    "collapsed": true
   },
   "outputs": [],
   "source": [
    "from datetime import datetime\n",
    "import pandas as pd\n",
    "import numpy as np\n",
    "import matplotlib.pyplot as plt\n",
    "import pickle\n",
    "from fuzzywuzzy import fuzz\n",
    "from fuzzywuzzy import process\n",
    "import fiona\n",
    "import shapely.geometry\n",
    "import common\n",
    "from shapely.geometry import Point, Polygon\n",
    "\n",
    "from IPython.display import Image\n",
    "\n",
    "# enables inline plots, without it plots don't show up in the notebook\n",
    "%matplotlib inline"
   ]
  },
  {
   "cell_type": "markdown",
   "metadata": {},
   "source": [
    "### Inputs that will change"
   ]
  },
  {
   "cell_type": "code",
   "execution_count": 2,
   "metadata": {
    "collapsed": true
   },
   "outputs": [],
   "source": [
    "number_of_stations = 5\n",
    "date = date = '09/24/2017'"
   ]
  },
  {
   "cell_type": "markdown",
   "metadata": {},
   "source": [
    "### Make df of all subway stations"
   ]
  },
  {
   "cell_type": "code",
   "execution_count": 3,
   "metadata": {
    "collapsed": true
   },
   "outputs": [],
   "source": [
    "df_columns = ['STATION_ID', 'COMPLEX_ID', 'GTFS_STOP_ID', 'DIVISION', 'LINE', 'STOP_NAME', 'BOROUGH', 'DAYTIME_ROUTES', 'STRUCTURE', 'LATITUDE', 'LONGITUDE']\n",
    "df_train_stops = pd.read_csv('http://web.mta.info/developers/data/nyct/subway/Stations.csv')\n",
    "df_train_stops.columns=df_columns"
   ]
  },
  {
   "cell_type": "markdown",
   "metadata": {},
   "source": [
    "### Load cleaned turnstile data - CHECK PATH"
   ]
  },
  {
   "cell_type": "code",
   "execution_count": 4,
   "metadata": {
    "collapsed": true
   },
   "outputs": [],
   "source": [
    "path = '/Users/murdock/Documents/Metis/MTABenson_metis/pklfiles/'\n",
    "with open(path + 'another100.pkl', 'rb') as pickle_file:\n",
    "    df = pickle.load(pickle_file)"
   ]
  },
  {
   "cell_type": "code",
   "execution_count": 5,
   "metadata": {},
   "outputs": [
    {
     "data": {
      "text/html": [
       "<div>\n",
       "<style>\n",
       "    .dataframe thead tr:only-child th {\n",
       "        text-align: right;\n",
       "    }\n",
       "\n",
       "    .dataframe thead th {\n",
       "        text-align: left;\n",
       "    }\n",
       "\n",
       "    .dataframe tbody tr th {\n",
       "        vertical-align: top;\n",
       "    }\n",
       "</style>\n",
       "<table border=\"1\" class=\"dataframe\">\n",
       "  <thead>\n",
       "    <tr style=\"text-align: right;\">\n",
       "      <th></th>\n",
       "      <th>DATE</th>\n",
       "      <th>STATION</th>\n",
       "      <th>LINENAME</th>\n",
       "      <th>SCP</th>\n",
       "      <th>TIME</th>\n",
       "      <th>ENTRIES</th>\n",
       "      <th>EXITS</th>\n",
       "      <th>ENTRY_DIFF</th>\n",
       "      <th>EXIT_DIFF</th>\n",
       "      <th>HR_DELTA</th>\n",
       "      <th>WEEKDAY</th>\n",
       "      <th>MAX</th>\n",
       "      <th>DATE_OBJ</th>\n",
       "    </tr>\n",
       "  </thead>\n",
       "  <tbody>\n",
       "    <tr>\n",
       "      <th>0</th>\n",
       "      <td>04/30/2016</td>\n",
       "      <td>59 ST</td>\n",
       "      <td>NQR456</td>\n",
       "      <td>02-00-00</td>\n",
       "      <td>0</td>\n",
       "      <td>5639941</td>\n",
       "      <td>1909983</td>\n",
       "      <td>NaN</td>\n",
       "      <td>NaN</td>\n",
       "      <td>NaN</td>\n",
       "      <td>5</td>\n",
       "      <td>NaN</td>\n",
       "      <td>2016-04-30</td>\n",
       "    </tr>\n",
       "    <tr>\n",
       "      <th>1</th>\n",
       "      <td>04/30/2016</td>\n",
       "      <td>59 ST</td>\n",
       "      <td>NQR456</td>\n",
       "      <td>02-00-00</td>\n",
       "      <td>4</td>\n",
       "      <td>5639991</td>\n",
       "      <td>1909993</td>\n",
       "      <td>50.0</td>\n",
       "      <td>10.0</td>\n",
       "      <td>4.0</td>\n",
       "      <td>5</td>\n",
       "      <td>2880.0</td>\n",
       "      <td>2016-04-30</td>\n",
       "    </tr>\n",
       "    <tr>\n",
       "      <th>2</th>\n",
       "      <td>04/30/2016</td>\n",
       "      <td>59 ST</td>\n",
       "      <td>NQR456</td>\n",
       "      <td>02-00-00</td>\n",
       "      <td>8</td>\n",
       "      <td>5640014</td>\n",
       "      <td>1910024</td>\n",
       "      <td>23.0</td>\n",
       "      <td>31.0</td>\n",
       "      <td>4.0</td>\n",
       "      <td>5</td>\n",
       "      <td>2880.0</td>\n",
       "      <td>2016-04-30</td>\n",
       "    </tr>\n",
       "    <tr>\n",
       "      <th>3</th>\n",
       "      <td>04/30/2016</td>\n",
       "      <td>59 ST</td>\n",
       "      <td>NQR456</td>\n",
       "      <td>02-00-00</td>\n",
       "      <td>12</td>\n",
       "      <td>5640158</td>\n",
       "      <td>1910134</td>\n",
       "      <td>144.0</td>\n",
       "      <td>110.0</td>\n",
       "      <td>4.0</td>\n",
       "      <td>5</td>\n",
       "      <td>2880.0</td>\n",
       "      <td>2016-04-30</td>\n",
       "    </tr>\n",
       "    <tr>\n",
       "      <th>4</th>\n",
       "      <td>04/30/2016</td>\n",
       "      <td>59 ST</td>\n",
       "      <td>NQR456</td>\n",
       "      <td>02-00-00</td>\n",
       "      <td>16</td>\n",
       "      <td>5640454</td>\n",
       "      <td>1910197</td>\n",
       "      <td>296.0</td>\n",
       "      <td>63.0</td>\n",
       "      <td>4.0</td>\n",
       "      <td>5</td>\n",
       "      <td>2880.0</td>\n",
       "      <td>2016-04-30</td>\n",
       "    </tr>\n",
       "  </tbody>\n",
       "</table>\n",
       "</div>"
      ],
      "text/plain": [
       "         DATE STATION LINENAME       SCP  TIME  ENTRIES    EXITS  ENTRY_DIFF  \\\n",
       "0  04/30/2016   59 ST   NQR456  02-00-00     0  5639941  1909983         NaN   \n",
       "1  04/30/2016   59 ST   NQR456  02-00-00     4  5639991  1909993        50.0   \n",
       "2  04/30/2016   59 ST   NQR456  02-00-00     8  5640014  1910024        23.0   \n",
       "3  04/30/2016   59 ST   NQR456  02-00-00    12  5640158  1910134       144.0   \n",
       "4  04/30/2016   59 ST   NQR456  02-00-00    16  5640454  1910197       296.0   \n",
       "\n",
       "   EXIT_DIFF  HR_DELTA  WEEKDAY     MAX   DATE_OBJ  \n",
       "0        NaN       NaN        5     NaN 2016-04-30  \n",
       "1       10.0       4.0        5  2880.0 2016-04-30  \n",
       "2       31.0       4.0        5  2880.0 2016-04-30  \n",
       "3      110.0       4.0        5  2880.0 2016-04-30  \n",
       "4       63.0       4.0        5  2880.0 2016-04-30  "
      ]
     },
     "execution_count": 5,
     "metadata": {},
     "output_type": "execute_result"
    }
   ],
   "source": [
    "df.head()"
   ]
  },
  {
   "cell_type": "markdown",
   "metadata": {},
   "source": [
    "### Function to select top stations on a given weekday"
   ]
  },
  {
   "cell_type": "code",
   "execution_count": 6,
   "metadata": {},
   "outputs": [],
   "source": [
    "\n",
    "def select_stations(date, number_of_stations, df):\n",
    "    desired_date = datetime.strptime(date, '%m/%d/%Y').weekday()\n",
    "    df.dropna(how = 'any', inplace=True)\n",
    "    df['TOTAL'] = df['ENTRY_DIFF'] + df['EXIT_DIFF']\n",
    "    extract_data_df = df[['DATE_OBJ', 'STATION', 'SCP', 'TOTAL', 'LINENAME', 'WEEKDAY']]\n",
    "    sorted_df = extract_data_df.sort_values(['WEEKDAY', 'TOTAL'], ascending=[True,False])\n",
    "    grouped_df = sorted_df.groupby(['WEEKDAY', 'STATION', 'LINENAME']).sum().reset_index().sort_values(['TOTAL'], ascending=False)\n",
    "    station_df = grouped_df[grouped_df['WEEKDAY']==desired_date][['WEEKDAY', 'STATION', 'LINENAME', 'TOTAL']].iloc[:number_of_stations + 50]\n",
    "    return station_df\n",
    "    \n",
    "stations = select_stations(date, 5, df)"
   ]
  },
  {
   "cell_type": "code",
   "execution_count": 7,
   "metadata": {},
   "outputs": [
    {
     "data": {
      "text/html": [
       "<div>\n",
       "<style>\n",
       "    .dataframe thead tr:only-child th {\n",
       "        text-align: right;\n",
       "    }\n",
       "\n",
       "    .dataframe thead th {\n",
       "        text-align: left;\n",
       "    }\n",
       "\n",
       "    .dataframe tbody tr th {\n",
       "        vertical-align: top;\n",
       "    }\n",
       "</style>\n",
       "<table border=\"1\" class=\"dataframe\">\n",
       "  <thead>\n",
       "    <tr style=\"text-align: right;\">\n",
       "      <th></th>\n",
       "      <th>WEEKDAY</th>\n",
       "      <th>STATION</th>\n",
       "      <th>LINENAME</th>\n",
       "      <th>TOTAL</th>\n",
       "    </tr>\n",
       "  </thead>\n",
       "  <tbody>\n",
       "    <tr>\n",
       "      <th>3390</th>\n",
       "      <td>6</td>\n",
       "      <td>GRD CNTRL-42 ST</td>\n",
       "      <td>4567S</td>\n",
       "      <td>5.498195e+10</td>\n",
       "    </tr>\n",
       "    <tr>\n",
       "      <th>3311</th>\n",
       "      <td>6</td>\n",
       "      <td>CANAL ST</td>\n",
       "      <td>JNQRZ6W</td>\n",
       "      <td>5.435720e+10</td>\n",
       "    </tr>\n",
       "    <tr>\n",
       "      <th>3166</th>\n",
       "      <td>6</td>\n",
       "      <td>42 ST-PORT AUTH</td>\n",
       "      <td>ACENQRS1237</td>\n",
       "      <td>4.420784e+10</td>\n",
       "    </tr>\n",
       "    <tr>\n",
       "      <th>3323</th>\n",
       "      <td>6</td>\n",
       "      <td>CHRISTOPHER ST</td>\n",
       "      <td>1</td>\n",
       "      <td>4.200098e+10</td>\n",
       "    </tr>\n",
       "    <tr>\n",
       "      <th>3167</th>\n",
       "      <td>6</td>\n",
       "      <td>42 ST-PORT AUTH</td>\n",
       "      <td>ACENQRS1237W</td>\n",
       "      <td>4.113478e+10</td>\n",
       "    </tr>\n",
       "  </tbody>\n",
       "</table>\n",
       "</div>"
      ],
      "text/plain": [
       "      WEEKDAY          STATION      LINENAME         TOTAL\n",
       "3390        6  GRD CNTRL-42 ST         4567S  5.498195e+10\n",
       "3311        6         CANAL ST       JNQRZ6W  5.435720e+10\n",
       "3166        6  42 ST-PORT AUTH   ACENQRS1237  4.420784e+10\n",
       "3323        6   CHRISTOPHER ST             1  4.200098e+10\n",
       "3167        6  42 ST-PORT AUTH  ACENQRS1237W  4.113478e+10"
      ]
     },
     "execution_count": 7,
     "metadata": {},
     "output_type": "execute_result"
    }
   ],
   "source": [
    "stations.head()"
   ]
  },
  {
   "cell_type": "markdown",
   "metadata": {},
   "source": [
    "### Function to obtain latitude and longitude for each top station"
   ]
  },
  {
   "cell_type": "code",
   "execution_count": 8,
   "metadata": {},
   "outputs": [],
   "source": [
    "train_stops_for_mapping = df_train_stops['STOP_NAME']\n",
    "train_lines_for_mapping = df_train_stops['DAYTIME_ROUTES']"
   ]
  },
  {
   "cell_type": "code",
   "execution_count": 9,
   "metadata": {},
   "outputs": [],
   "source": [
    "def find_lat_and_long(station_df):\n",
    "    plotting_data = []\n",
    "    for i, station in enumerate(station_df['STATION']):\n",
    "        stop = process.extractOne(station, train_stops_for_mapping, scorer=fuzz.token_set_ratio)\n",
    "        routes = df_train_stops[df_train_stops['STOP_NAME'] == stop[0]]['DAYTIME_ROUTES']\n",
    "        line = [li for li in station_df['LINENAME']]\n",
    "        line2 = process.extractOne(line[i], routes, scorer=fuzz.token_set_ratio)\n",
    "        a = df_train_stops[(df_train_stops['STOP_NAME']==stop[0])&(df_train_stops['DAYTIME_ROUTES']==line2[0])]['LATITUDE']\n",
    "        b = df_train_stops[(df_train_stops['STOP_NAME']==stop[0])&(df_train_stops['DAYTIME_ROUTES']==line2[0])]['LONGITUDE']\n",
    "        plotting_data.append([stop[0], line2[0], [lat for lat in a][0], [long for  long in b][0]])\n",
    "    return plotting_data\n",
    "\n",
    "\n",
    "station_coord = find_lat_and_long(stations)\n",
    "station_coord_df = pd.DataFrame(station_coord, columns=['STATION', 'STOP_NAME', 'LAT', 'LONG'])"
   ]
  },
  {
   "cell_type": "code",
   "execution_count": 10,
   "metadata": {},
   "outputs": [
    {
     "data": {
      "text/html": [
       "<div>\n",
       "<style>\n",
       "    .dataframe thead tr:only-child th {\n",
       "        text-align: right;\n",
       "    }\n",
       "\n",
       "    .dataframe thead th {\n",
       "        text-align: left;\n",
       "    }\n",
       "\n",
       "    .dataframe tbody tr th {\n",
       "        vertical-align: top;\n",
       "    }\n",
       "</style>\n",
       "<table border=\"1\" class=\"dataframe\">\n",
       "  <thead>\n",
       "    <tr style=\"text-align: right;\">\n",
       "      <th></th>\n",
       "      <th>STATION</th>\n",
       "      <th>STOP_NAME</th>\n",
       "      <th>LAT</th>\n",
       "      <th>LONG</th>\n",
       "    </tr>\n",
       "  </thead>\n",
       "  <tbody>\n",
       "    <tr>\n",
       "      <th>0</th>\n",
       "      <td>Grand Central - 42 St</td>\n",
       "      <td>4 5 6</td>\n",
       "      <td>40.751776</td>\n",
       "      <td>-73.976848</td>\n",
       "    </tr>\n",
       "    <tr>\n",
       "      <th>1</th>\n",
       "      <td>Canal St</td>\n",
       "      <td>R W</td>\n",
       "      <td>40.719527</td>\n",
       "      <td>-74.001775</td>\n",
       "    </tr>\n",
       "    <tr>\n",
       "      <th>2</th>\n",
       "      <td>42 St - Port Authority Bus Terminal</td>\n",
       "      <td>A C E</td>\n",
       "      <td>40.757308</td>\n",
       "      <td>-73.989735</td>\n",
       "    </tr>\n",
       "    <tr>\n",
       "      <th>3</th>\n",
       "      <td>Christopher St - Sheridan Sq</td>\n",
       "      <td>1</td>\n",
       "      <td>40.733422</td>\n",
       "      <td>-74.002906</td>\n",
       "    </tr>\n",
       "    <tr>\n",
       "      <th>4</th>\n",
       "      <td>42 St - Port Authority Bus Terminal</td>\n",
       "      <td>A C E</td>\n",
       "      <td>40.757308</td>\n",
       "      <td>-73.989735</td>\n",
       "    </tr>\n",
       "  </tbody>\n",
       "</table>\n",
       "</div>"
      ],
      "text/plain": [
       "                               STATION STOP_NAME        LAT       LONG\n",
       "0                Grand Central - 42 St     4 5 6  40.751776 -73.976848\n",
       "1                             Canal St       R W  40.719527 -74.001775\n",
       "2  42 St - Port Authority Bus Terminal     A C E  40.757308 -73.989735\n",
       "3         Christopher St - Sheridan Sq         1  40.733422 -74.002906\n",
       "4  42 St - Port Authority Bus Terminal     A C E  40.757308 -73.989735"
      ]
     },
     "execution_count": 10,
     "metadata": {},
     "output_type": "execute_result"
    }
   ],
   "source": [
    "station_coord_df.head()"
   ]
  },
  {
   "cell_type": "markdown",
   "metadata": {},
   "source": [
    "### Taking top matches and determining block and median income. CHECK FILENAME PATH"
   ]
  },
  {
   "cell_type": "code",
   "execution_count": 11,
   "metadata": {
    "collapsed": true
   },
   "outputs": [],
   "source": [
    "filename = '/Users/murdock/Documents/metis/MTABenson_metis/thematic_map_shape/nyshapefile.shp'\n",
    "blocks = []\n",
    "with fiona.open(filename) as data:\n",
    "    for block_data in data:\n",
    "        geometry = shapely.geometry.shape(block_data['geometry'])\n",
    "        block = block_data['properties']['GEO_ID']\n",
    "        blocks.append([block, block_data['geometry']['coordinates']])"
   ]
  },
  {
   "cell_type": "code",
   "execution_count": 12,
   "metadata": {},
   "outputs": [],
   "source": [
    "latitudes = [lat for lat in station_coord_df['LAT']]\n",
    "longitudes = [long for long in station_coord_df['LONG']]\n",
    "stations = [location for location in station_coord_df['STATION']]\n",
    "stops = [stop for stop in station_coord_df['STOP_NAME']]\n",
    "coordinates = list(zip(stations, stops, longitudes, latitudes))"
   ]
  },
  {
   "cell_type": "code",
   "execution_count": 13,
   "metadata": {},
   "outputs": [
    {
     "name": "stdout",
     "output_type": "stream",
     "text": [
      "50 55\n",
      "[('59 St', 'N R', -74.017881000000003, 40.641362000000001), '1500000US360470074002']\n"
     ]
    }
   ],
   "source": [
    "geo_id = []\n",
    "for block in blocks:\n",
    "    if len(block[1][0]) >= 3:\n",
    "        poly = Polygon(block[1][0])\n",
    "        for coord in coordinates:\n",
    "            point = Point(coord[2:])\n",
    "            if poly.contains(point):\n",
    "                #print(block[0])\n",
    "                geo_id.append([coord, block[0]])\n",
    "    \n",
    "print(len(geo_id), len(coordinates))\n",
    "print(geo_id[0])"
   ]
  },
  {
   "cell_type": "markdown",
   "metadata": {},
   "source": [
    "### Make a df of stations and which block from census data they are located within"
   ]
  },
  {
   "cell_type": "code",
   "execution_count": 14,
   "metadata": {
    "scrolled": false
   },
   "outputs": [],
   "source": [
    "columns=['STATION', 'STOP_NAME', 'LATITUDE', 'LONGITUDE', 'GEO_ID']\n",
    "geo_data = []\n",
    "for stations in geo_id:\n",
    "    station = stations[0][0]\n",
    "    stop = stations[0][1]\n",
    "    lat = stations[0][3]\n",
    "    lon = stations[0][2]\n",
    "    geo = stations[1]\n",
    "    geo_data.append([station, stop, lat, lon, geo])\n",
    "income_df = pd.DataFrame(geo_data, columns=columns)      \n"
   ]
  },
  {
   "cell_type": "code",
   "execution_count": 15,
   "metadata": {},
   "outputs": [
    {
     "data": {
      "text/html": [
       "<div>\n",
       "<style>\n",
       "    .dataframe thead tr:only-child th {\n",
       "        text-align: right;\n",
       "    }\n",
       "\n",
       "    .dataframe thead th {\n",
       "        text-align: left;\n",
       "    }\n",
       "\n",
       "    .dataframe tbody tr th {\n",
       "        vertical-align: top;\n",
       "    }\n",
       "</style>\n",
       "<table border=\"1\" class=\"dataframe\">\n",
       "  <thead>\n",
       "    <tr style=\"text-align: right;\">\n",
       "      <th></th>\n",
       "      <th>STATION</th>\n",
       "      <th>STOP_NAME</th>\n",
       "      <th>LATITUDE</th>\n",
       "      <th>LONGITUDE</th>\n",
       "      <th>GEO_ID</th>\n",
       "    </tr>\n",
       "  </thead>\n",
       "  <tbody>\n",
       "    <tr>\n",
       "      <th>0</th>\n",
       "      <td>59 St</td>\n",
       "      <td>N R</td>\n",
       "      <td>40.641362</td>\n",
       "      <td>-74.017881</td>\n",
       "      <td>1500000US360470074002</td>\n",
       "    </tr>\n",
       "    <tr>\n",
       "      <th>1</th>\n",
       "      <td>Times Sq - 42 St</td>\n",
       "      <td>N Q R W</td>\n",
       "      <td>40.754672</td>\n",
       "      <td>-73.986754</td>\n",
       "      <td>1500000US360610113001</td>\n",
       "    </tr>\n",
       "    <tr>\n",
       "      <th>2</th>\n",
       "      <td>Times Sq - 42 St</td>\n",
       "      <td>1 2 3</td>\n",
       "      <td>40.755290</td>\n",
       "      <td>-73.987495</td>\n",
       "      <td>1500000US360610113001</td>\n",
       "    </tr>\n",
       "    <tr>\n",
       "      <th>3</th>\n",
       "      <td>42 St - Bryant Pk</td>\n",
       "      <td>B D F M</td>\n",
       "      <td>40.754222</td>\n",
       "      <td>-73.984569</td>\n",
       "      <td>1500000US360610113001</td>\n",
       "    </tr>\n",
       "    <tr>\n",
       "      <th>4</th>\n",
       "      <td>Coney Island - Stillwell Av</td>\n",
       "      <td>D F N Q</td>\n",
       "      <td>40.577422</td>\n",
       "      <td>-73.981233</td>\n",
       "      <td>1500000US360470350002</td>\n",
       "    </tr>\n",
       "  </tbody>\n",
       "</table>\n",
       "</div>"
      ],
      "text/plain": [
       "                       STATION STOP_NAME   LATITUDE  LONGITUDE  \\\n",
       "0                        59 St       N R  40.641362 -74.017881   \n",
       "1             Times Sq - 42 St   N Q R W  40.754672 -73.986754   \n",
       "2             Times Sq - 42 St     1 2 3  40.755290 -73.987495   \n",
       "3            42 St - Bryant Pk   B D F M  40.754222 -73.984569   \n",
       "4  Coney Island - Stillwell Av   D F N Q  40.577422 -73.981233   \n",
       "\n",
       "                  GEO_ID  \n",
       "0  1500000US360470074002  \n",
       "1  1500000US360610113001  \n",
       "2  1500000US360610113001  \n",
       "3  1500000US360610113001  \n",
       "4  1500000US360470350002  "
      ]
     },
     "execution_count": 15,
     "metadata": {},
     "output_type": "execute_result"
    }
   ],
   "source": [
    "income_df.head()"
   ]
  },
  {
   "cell_type": "markdown",
   "metadata": {},
   "source": [
    "### Load census data and merge the df with the previous one to obtain median income near each station. CHECK TABLE PATH"
   ]
  },
  {
   "cell_type": "code",
   "execution_count": 16,
   "metadata": {
    "collapsed": true
   },
   "outputs": [],
   "source": [
    "income_table = pd.read_csv('/Users/murdock/Documents/metis/MTABenson_metis/ACS_15_5YR_B19013_with_ann.csv')"
   ]
  },
  {
   "cell_type": "code",
   "execution_count": 17,
   "metadata": {},
   "outputs": [
    {
     "data": {
      "text/html": [
       "<div>\n",
       "<style>\n",
       "    .dataframe thead tr:only-child th {\n",
       "        text-align: right;\n",
       "    }\n",
       "\n",
       "    .dataframe thead th {\n",
       "        text-align: left;\n",
       "    }\n",
       "\n",
       "    .dataframe tbody tr th {\n",
       "        vertical-align: top;\n",
       "    }\n",
       "</style>\n",
       "<table border=\"1\" class=\"dataframe\">\n",
       "  <thead>\n",
       "    <tr style=\"text-align: right;\">\n",
       "      <th></th>\n",
       "      <th>GEO_ID</th>\n",
       "      <th>GEO_ID2</th>\n",
       "      <th>GEO_DISPLAY_LABEL</th>\n",
       "      <th>MEDIAN_INCOME</th>\n",
       "      <th>MARGIN_OF_ERROR</th>\n",
       "    </tr>\n",
       "  </thead>\n",
       "  <tbody>\n",
       "    <tr>\n",
       "      <th>1</th>\n",
       "      <td>1500000US360050001000</td>\n",
       "      <td>360050001000</td>\n",
       "      <td>Block Group 0, Census Tract 1, Bronx County, N...</td>\n",
       "      <td>-</td>\n",
       "      <td>**</td>\n",
       "    </tr>\n",
       "    <tr>\n",
       "      <th>2</th>\n",
       "      <td>1500000US360050001001</td>\n",
       "      <td>360050001001</td>\n",
       "      <td>Block Group 1, Census Tract 1, Bronx County, N...</td>\n",
       "      <td>-</td>\n",
       "      <td>**</td>\n",
       "    </tr>\n",
       "    <tr>\n",
       "      <th>3</th>\n",
       "      <td>1500000US360050002000</td>\n",
       "      <td>360050002000</td>\n",
       "      <td>Block Group 0, Census Tract 2, Bronx County, N...</td>\n",
       "      <td>-</td>\n",
       "      <td>**</td>\n",
       "    </tr>\n",
       "    <tr>\n",
       "      <th>4</th>\n",
       "      <td>1500000US360050002001</td>\n",
       "      <td>360050002001</td>\n",
       "      <td>Block Group 1, Census Tract 2, Bronx County, N...</td>\n",
       "      <td>61344</td>\n",
       "      <td>14654</td>\n",
       "    </tr>\n",
       "    <tr>\n",
       "      <th>5</th>\n",
       "      <td>1500000US360050002002</td>\n",
       "      <td>360050002002</td>\n",
       "      <td>Block Group 2, Census Tract 2, Bronx County, N...</td>\n",
       "      <td>71768</td>\n",
       "      <td>27738</td>\n",
       "    </tr>\n",
       "  </tbody>\n",
       "</table>\n",
       "</div>"
      ],
      "text/plain": [
       "                  GEO_ID       GEO_ID2  \\\n",
       "1  1500000US360050001000  360050001000   \n",
       "2  1500000US360050001001  360050001001   \n",
       "3  1500000US360050002000  360050002000   \n",
       "4  1500000US360050002001  360050002001   \n",
       "5  1500000US360050002002  360050002002   \n",
       "\n",
       "                                   GEO_DISPLAY_LABEL MEDIAN_INCOME  \\\n",
       "1  Block Group 0, Census Tract 1, Bronx County, N...             -   \n",
       "2  Block Group 1, Census Tract 1, Bronx County, N...             -   \n",
       "3  Block Group 0, Census Tract 2, Bronx County, N...             -   \n",
       "4  Block Group 1, Census Tract 2, Bronx County, N...         61344   \n",
       "5  Block Group 2, Census Tract 2, Bronx County, N...         71768   \n",
       "\n",
       "  MARGIN_OF_ERROR  \n",
       "1              **  \n",
       "2              **  \n",
       "3              **  \n",
       "4           14654  \n",
       "5           27738  "
      ]
     },
     "execution_count": 17,
     "metadata": {},
     "output_type": "execute_result"
    }
   ],
   "source": [
    "income_table = income_table.drop(income_table.index[0])\n",
    "income_table.columns=['GEO_ID', 'GEO_ID2', 'GEO_DISPLAY_LABEL', 'MEDIAN_INCOME', 'MARGIN_OF_ERROR']\n",
    "income_table.head()"
   ]
  },
  {
   "cell_type": "code",
   "execution_count": 18,
   "metadata": {
    "collapsed": true
   },
   "outputs": [],
   "source": [
    "final_station_selection_df = pd.merge(income_df, income_table, on='GEO_ID', how='left')"
   ]
  },
  {
   "cell_type": "code",
   "execution_count": 19,
   "metadata": {},
   "outputs": [
    {
     "data": {
      "text/html": [
       "<div>\n",
       "<style>\n",
       "    .dataframe thead tr:only-child th {\n",
       "        text-align: right;\n",
       "    }\n",
       "\n",
       "    .dataframe thead th {\n",
       "        text-align: left;\n",
       "    }\n",
       "\n",
       "    .dataframe tbody tr th {\n",
       "        vertical-align: top;\n",
       "    }\n",
       "</style>\n",
       "<table border=\"1\" class=\"dataframe\">\n",
       "  <thead>\n",
       "    <tr style=\"text-align: right;\">\n",
       "      <th></th>\n",
       "      <th>STATION</th>\n",
       "      <th>STOP_NAME</th>\n",
       "      <th>LATITUDE</th>\n",
       "      <th>LONGITUDE</th>\n",
       "      <th>GEO_ID</th>\n",
       "      <th>GEO_ID2</th>\n",
       "      <th>GEO_DISPLAY_LABEL</th>\n",
       "      <th>MEDIAN_INCOME</th>\n",
       "      <th>MARGIN_OF_ERROR</th>\n",
       "    </tr>\n",
       "  </thead>\n",
       "  <tbody>\n",
       "    <tr>\n",
       "      <th>0</th>\n",
       "      <td>59 St</td>\n",
       "      <td>N R</td>\n",
       "      <td>40.641362</td>\n",
       "      <td>-74.017881</td>\n",
       "      <td>1500000US360470074002</td>\n",
       "      <td>360470074002</td>\n",
       "      <td>Block Group 2, Census Tract 74, Kings County, ...</td>\n",
       "      <td>58804</td>\n",
       "      <td>12572</td>\n",
       "    </tr>\n",
       "    <tr>\n",
       "      <th>1</th>\n",
       "      <td>Times Sq - 42 St</td>\n",
       "      <td>N Q R W</td>\n",
       "      <td>40.754672</td>\n",
       "      <td>-73.986754</td>\n",
       "      <td>1500000US360610113001</td>\n",
       "      <td>360610113001</td>\n",
       "      <td>Block Group 1, Census Tract 113, New York Coun...</td>\n",
       "      <td>82361</td>\n",
       "      <td>29445</td>\n",
       "    </tr>\n",
       "    <tr>\n",
       "      <th>2</th>\n",
       "      <td>Times Sq - 42 St</td>\n",
       "      <td>1 2 3</td>\n",
       "      <td>40.755290</td>\n",
       "      <td>-73.987495</td>\n",
       "      <td>1500000US360610113001</td>\n",
       "      <td>360610113001</td>\n",
       "      <td>Block Group 1, Census Tract 113, New York Coun...</td>\n",
       "      <td>82361</td>\n",
       "      <td>29445</td>\n",
       "    </tr>\n",
       "    <tr>\n",
       "      <th>3</th>\n",
       "      <td>42 St - Bryant Pk</td>\n",
       "      <td>B D F M</td>\n",
       "      <td>40.754222</td>\n",
       "      <td>-73.984569</td>\n",
       "      <td>1500000US360610113001</td>\n",
       "      <td>360610113001</td>\n",
       "      <td>Block Group 1, Census Tract 113, New York Coun...</td>\n",
       "      <td>82361</td>\n",
       "      <td>29445</td>\n",
       "    </tr>\n",
       "    <tr>\n",
       "      <th>4</th>\n",
       "      <td>Coney Island - Stillwell Av</td>\n",
       "      <td>D F N Q</td>\n",
       "      <td>40.577422</td>\n",
       "      <td>-73.981233</td>\n",
       "      <td>1500000US360470350002</td>\n",
       "      <td>360470350002</td>\n",
       "      <td>Block Group 2, Census Tract 350, Kings County,...</td>\n",
       "      <td>28359</td>\n",
       "      <td>20779</td>\n",
       "    </tr>\n",
       "  </tbody>\n",
       "</table>\n",
       "</div>"
      ],
      "text/plain": [
       "                       STATION STOP_NAME   LATITUDE  LONGITUDE  \\\n",
       "0                        59 St       N R  40.641362 -74.017881   \n",
       "1             Times Sq - 42 St   N Q R W  40.754672 -73.986754   \n",
       "2             Times Sq - 42 St     1 2 3  40.755290 -73.987495   \n",
       "3            42 St - Bryant Pk   B D F M  40.754222 -73.984569   \n",
       "4  Coney Island - Stillwell Av   D F N Q  40.577422 -73.981233   \n",
       "\n",
       "                  GEO_ID       GEO_ID2  \\\n",
       "0  1500000US360470074002  360470074002   \n",
       "1  1500000US360610113001  360610113001   \n",
       "2  1500000US360610113001  360610113001   \n",
       "3  1500000US360610113001  360610113001   \n",
       "4  1500000US360470350002  360470350002   \n",
       "\n",
       "                                   GEO_DISPLAY_LABEL MEDIAN_INCOME  \\\n",
       "0  Block Group 2, Census Tract 74, Kings County, ...         58804   \n",
       "1  Block Group 1, Census Tract 113, New York Coun...         82361   \n",
       "2  Block Group 1, Census Tract 113, New York Coun...         82361   \n",
       "3  Block Group 1, Census Tract 113, New York Coun...         82361   \n",
       "4  Block Group 2, Census Tract 350, Kings County,...         28359   \n",
       "\n",
       "  MARGIN_OF_ERROR  \n",
       "0           12572  \n",
       "1           29445  \n",
       "2           29445  \n",
       "3           29445  \n",
       "4           20779  "
      ]
     },
     "execution_count": 19,
     "metadata": {},
     "output_type": "execute_result"
    }
   ],
   "source": [
    "final_station_selection_df.head()"
   ]
  },
  {
   "cell_type": "markdown",
   "metadata": {},
   "source": [
    "### Selects the top stations based on median income"
   ]
  },
  {
   "cell_type": "code",
   "execution_count": 20,
   "metadata": {},
   "outputs": [
    {
     "data": {
      "text/html": [
       "<div>\n",
       "<style>\n",
       "    .dataframe thead tr:only-child th {\n",
       "        text-align: right;\n",
       "    }\n",
       "\n",
       "    .dataframe thead th {\n",
       "        text-align: left;\n",
       "    }\n",
       "\n",
       "    .dataframe tbody tr th {\n",
       "        vertical-align: top;\n",
       "    }\n",
       "</style>\n",
       "<table border=\"1\" class=\"dataframe\">\n",
       "  <thead>\n",
       "    <tr style=\"text-align: right;\">\n",
       "      <th></th>\n",
       "      <th>STATION</th>\n",
       "      <th>STOP_NAME</th>\n",
       "      <th>LATITUDE</th>\n",
       "      <th>LONGITUDE</th>\n",
       "      <th>MEDIAN_INCOME</th>\n",
       "    </tr>\n",
       "  </thead>\n",
       "  <tbody>\n",
       "    <tr>\n",
       "      <th>15</th>\n",
       "      <td>Delancey St</td>\n",
       "      <td>F</td>\n",
       "      <td>40.718611</td>\n",
       "      <td>-73.988114</td>\n",
       "      <td>93643</td>\n",
       "    </tr>\n",
       "    <tr>\n",
       "      <th>19</th>\n",
       "      <td>Bedford Av</td>\n",
       "      <td>L</td>\n",
       "      <td>40.717304</td>\n",
       "      <td>-73.956872</td>\n",
       "      <td>90370</td>\n",
       "    </tr>\n",
       "    <tr>\n",
       "      <th>14</th>\n",
       "      <td>2 Av</td>\n",
       "      <td>F</td>\n",
       "      <td>40.723402</td>\n",
       "      <td>-73.989938</td>\n",
       "      <td>89398</td>\n",
       "    </tr>\n",
       "    <tr>\n",
       "      <th>42</th>\n",
       "      <td>Grand St</td>\n",
       "      <td>B D</td>\n",
       "      <td>40.718267</td>\n",
       "      <td>-73.993753</td>\n",
       "      <td>86957</td>\n",
       "    </tr>\n",
       "    <tr>\n",
       "      <th>5</th>\n",
       "      <td>Lafayette Av</td>\n",
       "      <td>C</td>\n",
       "      <td>40.686113</td>\n",
       "      <td>-73.973946</td>\n",
       "      <td>86028</td>\n",
       "    </tr>\n",
       "  </tbody>\n",
       "</table>\n",
       "</div>"
      ],
      "text/plain": [
       "         STATION STOP_NAME   LATITUDE  LONGITUDE MEDIAN_INCOME\n",
       "15   Delancey St         F  40.718611 -73.988114         93643\n",
       "19    Bedford Av         L  40.717304 -73.956872         90370\n",
       "14          2 Av         F  40.723402 -73.989938         89398\n",
       "42      Grand St       B D  40.718267 -73.993753         86957\n",
       "5   Lafayette Av         C  40.686113 -73.973946         86028"
      ]
     },
     "execution_count": 20,
     "metadata": {},
     "output_type": "execute_result"
    }
   ],
   "source": [
    "def top_stations(number_of_stations, df):\n",
    "    selection_df = final_station_selection_df[['STATION', 'STOP_NAME', 'LATITUDE', 'LONGITUDE', 'MEDIAN_INCOME']]\n",
    "    return selection_df.sort_values('MEDIAN_INCOME', ascending=False)[:number_of_stations]\n",
    "\n",
    "top_stations(number_of_stations, final_station_selection_df)"
   ]
  },
  {
   "cell_type": "code",
   "execution_count": 22,
   "metadata": {},
   "outputs": [],
   "source": [
    "# income ranges from original census graph - can use to rank neighborhoods\n",
    "#8,713 - 46,071\n",
    "#46,087 - 78,068\n",
    "#78,162 - 126,406\n",
    "#126,667 - 249,083]"
   ]
  },
  {
   "cell_type": "code",
   "execution_count": null,
   "metadata": {
    "collapsed": true
   },
   "outputs": [],
   "source": []
  }
 ],
 "metadata": {
  "kernelspec": {
   "display_name": "Python [default]",
   "language": "python",
   "name": "python3"
  },
  "language_info": {
   "codemirror_mode": {
    "name": "ipython",
    "version": 3
   },
   "file_extension": ".py",
   "mimetype": "text/x-python",
   "name": "python",
   "nbconvert_exporter": "python",
   "pygments_lexer": "ipython3",
   "version": "3.6.1"
  }
 },
 "nbformat": 4,
 "nbformat_minor": 2
}
