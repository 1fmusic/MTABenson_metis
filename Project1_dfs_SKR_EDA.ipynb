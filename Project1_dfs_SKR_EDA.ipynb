{
 "cells": [
  {
   "cell_type": "code",
   "execution_count": 1,
   "metadata": {
    "collapsed": true
   },
   "outputs": [],
   "source": [
    "import pandas as pd\n",
    "import numpy as np\n",
    "import matplotlib.pyplot as plt\n",
    "import seaborn as sns\n",
    "sns.set(color_codes=True)\n",
    "\n",
    "from datetime import datetime\n",
    "from datetime import timedelta\n",
    "from IPython.display import Image\n",
    "import pickle\n",
    "\n",
    "%matplotlib inline"
   ]
  },
  {
   "cell_type": "code",
   "execution_count": null,
   "metadata": {
    "collapsed": true
   },
   "outputs": [],
   "source": [
    "df_train_stops = pd.read_csv('http://web.mta.info/developers/data/nyct/subway/Stations.csv')"
   ]
  },
  {
   "cell_type": "code",
   "execution_count": null,
   "metadata": {},
   "outputs": [],
   "source": [
    "len(df_train_stops['Stop Name'].unique())"
   ]
  },
  {
   "cell_type": "markdown",
   "metadata": {},
   "source": [
    "### Making a df from turnstile data"
   ]
  },
  {
   "cell_type": "code",
   "execution_count": null,
   "metadata": {
    "collapsed": true
   },
   "outputs": [],
   "source": [
    "dates = ['170624', '170617', '170610', '170603', '170527', '170520', '170513', '170506', '160625', '160618', '160611', '160604', '160528', '160521', '160514', '160507']\n",
    "\n",
    "chronological_dates = list(reversed(dates))"
   ]
  },
  {
   "cell_type": "code",
   "execution_count": null,
   "metadata": {
    "scrolled": true
   },
   "outputs": [],
   "source": [
    "turnstile_df_raw = pd.DataFrame()\n",
    "\n",
    "for date in chronological_dates:\n",
    "    base = 'http://web.mta.info/developers/data/nyct/turnstile/turnstile_'\n",
    "    url = base + date + '.txt'\n",
    "    print(url)\n",
    "    df = pd.read_csv(url)\n",
    "    turnstile_df_raw = pd.concat([turnstile_df_raw, df], ignore_index=True)"
   ]
  },
  {
   "cell_type": "code",
   "execution_count": null,
   "metadata": {
    "collapsed": true
   },
   "outputs": [],
   "source": [
    "# to save a pickle file _ Summer\n",
    "path = '/Volumes/ext200/Dropbox/metis/MTABenson_metis/pklfiles/'\n",
    "with open(path + 'turnstile_df_raw.pkl', 'wb') as picklefile:\n",
    "    pickle.dump(turnstile_df_raw, picklefile)\n",
    "with open(path + 'another100.pkl', 'wb') as picklefile:\n",
    "    pickle.dump(another100, picklefile)\n",
    "with open(path + 'unclean_100.pkl', 'wb') as picklefile:\n",
    "    pickle.dump(unclean_100, picklefile)        "
   ]
  },
  {
   "cell_type": "code",
   "execution_count": null,
   "metadata": {
    "collapsed": true
   },
   "outputs": [],
   "source": [
    "path = '/Volumes/ext200/Dropbox/metis/MTABenson_metis/pklfiles/'\n",
    "\n",
    "with open(path + 'tuestop.pkl', 'wb') as picklefile:\n",
    "    pickle.dump(tuestop, picklefile)        "
   ]
  },
  {
   "cell_type": "code",
   "execution_count": 2,
   "metadata": {
    "collapsed": true
   },
   "outputs": [],
   "source": [
    "# to open a pickle file_Summer\n",
    "path = '/Volumes/ext200/Dropbox/metis/MTABenson_metis/pklfiles/'\n",
    "with open(path + \"turnstile_df_raw.pkl\", 'rb') as picklefile: \n",
    "    turnstile_df_raw = pickle.load(picklefile)\n",
    "with open(path + \"another100.pkl\", 'rb') as picklefile: \n",
    "    another100 = pickle.load(picklefile)\n",
    "with open(path + \"unclean_100.pkl\", 'rb') as picklefile: \n",
    "    unclean_100 = pickle.load(picklefile)"
   ]
  },
  {
   "cell_type": "markdown",
   "metadata": {},
   "source": [
    "### Get and Compute the total number of people in and out of each station, each day."
   ]
  },
  {
   "cell_type": "code",
   "execution_count": 12,
   "metadata": {
    "collapsed": true
   },
   "outputs": [],
   "source": [
    "def ppl_per_int_turnst(datafrm):\n",
    "    \"\"\"function to subtract the ENTRIES and EXITS collected at the starting hour for the day (i.e., 00:00:00 hrs) from the entries \n",
    "    and exits collected during the next collection time (i.e. 'TIME =04:00:00 hrs) for each turnstile in MTA, and the length of\n",
    "    the corresponding time interval (HR_DELTA). \n",
    "    ----------\n",
    "    datafrm= dataframe from MTA turnstile data\n",
    "    output(2dataframes) = 1. includes the outliers   2. cleaned data \"\"\"\n",
    "#----------------------------------------------------------  \n",
    "    datafrm.rename(columns = {datafrm.columns[-1]:'EXITS'}, inplace=True) #deal with col name that sucks\n",
    "    datafrm = datafrm.loc[:,['DATE','STATION','LINENAME','SCP','TIME','ENTRIES','EXITS']] #only what we want\n",
    "    \n",
    "    #convert/extract date/time info\n",
    "    datafrm['TIME'] = pd.to_datetime(datafrm.loc[:,('TIME')]).dt.hour #, format='%H:%M:%S') #make into datetime object\n",
    "    datafrm['DATE_OBJ'] =pd.to_datetime(datafrm.loc[:,('DATE')])#make into datetime object\n",
    "    datafrm['WEEKDAY'] =datafrm.loc[:,('DATE_OBJ')].apply(lambda i: i.weekday()) #get day of week  \n",
    "    datafrm = datafrm[(datafrm.DATE != '05/30/2016') | (datafrm.DATE != '05/29/2017')] # remove memorial days\n",
    "    \n",
    "    #subtract entries/exit number of people by rows (time increments) and get absolute value\n",
    "    datafrm['ENTRY_DIFF'] = datafrm.groupby(['DATE','LINENAME','STATION','SCP'])['ENTRIES'].transform(lambda x: x.diff())\n",
    "    datafrm['ENTRY_DIFF'] = datafrm['ENTRY_DIFF'].abs()\n",
    "    datafrm['EXIT_DIFF'] = datafrm.groupby(['DATE','LINENAME','STATION','SCP'])['EXITS'].transform(lambda x: x.diff())\n",
    "    datafrm['EXIT_DIFF'] =datafrm['EXIT_DIFF'].abs() \n",
    "    \n",
    "    # get number of hours in each increment collected\n",
    "    datafrm['HR_DELTA'] = datafrm.groupby(['DATE','LINENAME','STATION','SCP'])['TIME'].transform(pd.Series.diff)   \n",
    "    # remove duplicates or intervals that were longer than one day\n",
    "    datafrm = datafrm[(datafrm.HR_DELTA !=0)& (datafrm.HR_DELTA <=23) ] \n",
    "    \n",
    "    #compute the max number of ppl for each interval\n",
    "    datafrm['MAX'] = datafrm.loc[:,('HR_DELTA')].apply(lambda q: q * 720) \n",
    "    \n",
    "    # divide entries by number of hours for hourly rate\n",
    "    datafrm['EN_HRLY_RATE'] = datafrm['ENTRY_DIFF']/datafrm['HR_DELTA']\n",
    "    datafrm['EX_HRLY_RATE'] = datafrm['EXIT_DIFF']/datafrm['HR_DELTA']\n",
    "    \n",
    "    # calc total flow of people in and out for each interval \n",
    "    datafrm['SUM_PPL']= datafrm['ENTRY_DIFF'] + datafrm['EXIT_DIFF']\n",
    "    #___________________________________________________________________________________\n",
    "    # create a second cleaned df by throwing out interval collection times > MAX \n",
    "    clean_datafrm = datafrm.query('(ENTRY_DIFF <= MAX)')\n",
    "    clean_datafrm = clean_datafrm.query('(EXIT_DIFF <= MAX)')\n",
    "    \n",
    "    # calc total flow of people in and out for each interval \n",
    "    clean_datafrm['SUM_PPL']= clean_datafrm['ENTRY_DIFF'] + clean_datafrm['EXIT_DIFF']\n",
    "    \n",
    "    return datafrm, clean_datafrm"
   ]
  },
  {
   "cell_type": "code",
   "execution_count": null,
   "metadata": {},
   "outputs": [],
   "source": [
    "# call cleaning function \n",
    "unclean_100, another100 = ppl_per_int_turnst(turnstile_df_raw)"
   ]
  },
  {
   "cell_type": "code",
   "execution_count": 13,
   "metadata": {},
   "outputs": [
    {
     "data": {
      "image/png": "[encoded data removed]",
      "text/plain": [
       "<matplotlib.figure.Figure at 0x10f5baac8>"
      ]
     },
     "metadata": {},
     "output_type": "display_data"
    }
   ],
   "source": [
    "fig = plt.figure(figsize=(15, 8));  # Size of the total canvas\n",
    "fig.suptitle(\"Histogram-Entries + Exits for every collection interval\",fontsize=16);\n",
    "             \n",
    "xU = unclean_100.SUM_PPL# < 10000 #ENTRY_DIFF\n",
    "plt.subplot(1, 2, 1);\n",
    "sns.distplot(xU) #, bins=45,range=[0,1500]);\n",
    "\n",
    "#plt.hist(xU, bins=45,range=[0,1500]);\n",
    "plt.xlabel('Raw Data')\n",
    "\n",
    "yU = another100.SUM_PPL #EXIT_DIFF\n",
    "plt.subplot(1, 2, 2);  \n",
    "sns.distplot(yU) #, bins=45,range=[0,1500]);\n",
    "plt.xlabel('Cleaned Data');\n",
    "#plt.hist(yU, bins=45);#,range=[0,1500]);\n"
   ]
  },
  {
   "cell_type": "code",
   "execution_count": 14,
   "metadata": {
    "collapsed": true
   },
   "outputs": [],
   "source": [
    "# sum over the time intervals for each turnstile \n",
    "per_turn= another100.groupby(['DATE_OBJ','LINENAME','STATION','SCP']).sum()"
   ]
  },
  {
   "cell_type": "code",
   "execution_count": 15,
   "metadata": {
    "collapsed": true
   },
   "outputs": [],
   "source": [
    "# sum over turnstile totals for each station, and eaah day \n",
    "#SUM_PPL will be the value to look at. \n",
    "per_stn=per_turn.groupby(['DATE_OBJ','LINENAME','STATION']).sum()\n",
    "per_stns = per_stn.reset_index()\n",
    "#pull weekday info again (we summed it, so it's wrong)\n",
    "per_stns['WEEKDAY'] = per_stns.loc[:,('DATE_OBJ')].apply(lambda s: s.weekday()) #0=Monday, etc... "
   ]
  },
  {
   "cell_type": "code",
   "execution_count": 16,
   "metadata": {
    "collapsed": true
   },
   "outputs": [],
   "source": [
    "# now, get the mean of each station for each day of the week (M=F) \n",
    "per_weekD = per_stns.groupby(['WEEKDAY','LINENAME','STATION']).mean()\n",
    "per_weekD = per_weekD.reset_index()"
   ]
  },
  {
   "cell_type": "code",
   "execution_count": 20,
   "metadata": {},
   "outputs": [
    {
     "data": {
      "image/png": "[encoded data removed]",
      "text/plain": [
       "<matplotlib.figure.Figure at 0x1439a4b38>"
      ]
     },
     "metadata": {},
     "output_type": "display_data"
    }
   ],
   "source": [
    "#plot weekday ridership for all stations\n",
    "plt.bar(per_weekD.WEEKDAY, per_weekD.SUM_PPL);\n",
    "plt.title('All MTA Subway Stations',fontsize=14);\n",
    "plt.ylabel('Entry + Exit',fontsize=12);\n",
    "plt.xticks(np.arange(7), ('Mon', 'Tues', 'Wed', 'Thurs', 'Fri','Sat','Sun'),fontsize=12 );"
   ]
  },
  {
   "cell_type": "code",
   "execution_count": 21,
   "metadata": {
    "collapsed": true
   },
   "outputs": [],
   "source": [
    "tues = per_weekD.query('(WEEKDAY== 1)')"
   ]
  },
  {
   "cell_type": "code",
   "execution_count": null,
   "metadata": {
    "collapsed": true
   },
   "outputs": [],
   "source": []
  },
  {
   "cell_type": "code",
   "execution_count": 22,
   "metadata": {},
   "outputs": [
    {
     "data": {
      "text/plain": [
       "array(['GRD CNTRL-42 ST', '34 ST-HERALD SQ', '34 ST-PENN STA',\n",
       "       '42 ST-PORT AUTH', '14 ST-UNION SQ', '47-50 STS ROCK',\n",
       "       'TIMES SQ-42 ST', 'PATH NEW WTC', 'FULTON ST', 'FLUSHING-MAIN',\n",
       "       '59 ST COLUMBUS', '86 ST', '59 ST', 'LEXINGTON AV/53',\n",
       "       '42 ST-BRYANT PK', 'CANAL ST', 'JKSN HT-ROOSVLT', '72 ST', '96 ST',\n",
       "       'W 4 ST-WASH SQ', 'JAMAICA CENTER', 'PATH WTC', '77 ST',\n",
       "       'BOWLING GREEN', 'JAY ST-METROTEC', 'BOROUGH HALL', 'KEW GARDENS',\n",
       "       '5 AV/53 ST', '33 ST', 'WALL ST', 'CHAMBERS ST', '72 ST-2 AVE',\n",
       "       '125 ST', '23 ST', '57 ST-7 AV', \"B'WAY-LAFAYETTE\",\n",
       "       '68ST-HUNTER CO', 'BEDFORD AV'], dtype=object)"
      ]
     },
     "execution_count": 22,
     "metadata": {},
     "output_type": "execute_result"
    }
   ],
   "source": [
    "tues = tues.sort_values(['SUM_PPL'],ascending=False)\n",
    "tuestop = tues[0:50]\n",
    "categories = tuestop.STATION.unique()\n",
    "categories"
   ]
  },
  {
   "cell_type": "code",
   "execution_count": 23,
   "metadata": {},
   "outputs": [
    {
     "data": {
      "text/plain": [
       "str"
      ]
     },
     "execution_count": 23,
     "metadata": {},
     "output_type": "execute_result"
    }
   ],
   "source": [
    "stn=['GRD CNTRL-42 ST', '34 ST-HERALD SQ', '34 ST-PENN STA',\n",
    "       '42 ST-PORT AUTH', '14 ST-UNION SQ', '47-50 STS ROCK',\n",
    "       'TIMES SQ-42 ST', 'PATH NEW WTC', 'FULTON ST', 'FLUSHING-MAIN',\n",
    "       '59 ST COLUMBUS', '86 ST', '59 ST', 'LEXINGTON AV/53',\n",
    "       '42 ST-BRYANT PK', 'CANAL ST', 'JKSN HT-ROOSVLT', '72 ST', '96 ST',\n",
    "       'W 4 ST-WASH SQ', 'JAMAICA CENTER', 'PATH WTC', '77 ST',\n",
    "       'BOWLING GREEN', 'JAY ST-METROTEC', 'BOROUGH HALL', 'KEW GARDENS',\n",
    "       '5 AV/53 ST', '33 ST', 'WALL ST', 'CHAMBERS ST', '72 ST-2 AVE',\n",
    "       '125 ST', '23 ST', '57 ST-7 AV', \"B'WAY-LAFAYETTE\",\n",
    "       '68ST-HUNTER CO', 'BEDFORD AV']\n",
    "type(stn[1])"
   ]
  },
  {
   "cell_type": "code",
   "execution_count": 30,
   "metadata": {},
   "outputs": [
    {
     "ename": "TypeError",
     "evalue": "'tuple' object is not callable",
     "output_type": "error",
     "traceback": [
      "\u001b[0;31m---------------------------------------------------------------------------\u001b[0m",
      "\u001b[0;31mTypeError\u001b[0m                                 Traceback (most recent call last)",
      "\u001b[0;32m<ipython-input-30-18c3105598c0>\u001b[0m in \u001b[0;36m<module>\u001b[0;34m()\u001b[0m\n\u001b[1;32m      6\u001b[0m \u001b[0mplt\u001b[0m\u001b[0;34m.\u001b[0m\u001b[0mylabel\u001b[0m \u001b[0;34m=\u001b[0m \u001b[0;34m(\u001b[0m\u001b[0;34m'Number of people'\u001b[0m\u001b[0;34m)\u001b[0m\u001b[0;34m\u001b[0m\u001b[0m\n\u001b[1;32m      7\u001b[0m plt.xticks(np.arange(len(stn)),\n\u001b[0;32m----> 8\u001b[0;31m               [format(x) for x in stn])\n\u001b[0m",
      "\u001b[0;31mTypeError\u001b[0m: 'tuple' object is not callable"
     ]
    },
    {
     "data": {
      "image/png": "[encoded data removed]",
      "text/plain": [
       "<matplotlib.figure.Figure at 0x1151cc390>"
      ]
     },
     "metadata": {},
     "output_type": "display_data"
    }
   ],
   "source": [
    "plt.figure(figsize=(20, 10))  # Size of the total canvas\n",
    "\n",
    "plt.bar(np.arange(len(tuestop.STATION)), tuestop.SUM_PPL)\n",
    "#plt.xticks = (np.arange(50),(categories))\n",
    "#plt.xlabel = ('Stations')\n",
    "plt.ylabel = ('Number of people')\n",
    "plt.xticks(np.arange(len(stn)),\n",
    "              [format(x) for x in stn])"
   ]
  },
  {
   "cell_type": "code",
   "execution_count": null,
   "metadata": {
    "collapsed": true
   },
   "outputs": [],
   "source": [
    "#(range(num_categories),\n"
   ]
  }
 ],
 "metadata": {
  "kernelspec": {
   "display_name": "Python [default]",
   "language": "python",
   "name": "python3"
  },
  "language_info": {
   "codemirror_mode": {
    "name": "ipython",
    "version": 3
   },
   "file_extension": ".py",
   "mimetype": "text/x-python",
   "name": "python",
   "nbconvert_exporter": "python",
   "pygments_lexer": "ipython3",
   "version": "3.6.2"
  }
 },
 "nbformat": 4,
 "nbformat_minor": 2
}
